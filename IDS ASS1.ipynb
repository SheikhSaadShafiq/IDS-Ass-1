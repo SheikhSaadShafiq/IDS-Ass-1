{
 "cells": [
  {
   "cell_type": "markdown",
   "id": "c31e1808",
   "metadata": {},
   "source": [
    "#                                            # Assignment # 1 "
   ]
  },
  {
   "cell_type": "code",
   "execution_count": null,
   "id": "be3ef1c0",
   "metadata": {},
   "outputs": [],
   "source": []
  },
  {
   "cell_type": "markdown",
   "id": "22e24c31",
   "metadata": {},
   "source": [
    "                                            Question # 1\n",
    "\n",
    "Write a Python program to convert temperatures to and from celsius, fahrenheit?\n"
   ]
  },
  {
   "cell_type": "markdown",
   "id": "43ae467a",
   "metadata": {},
   "source": [
    "  \n",
    " "
   ]
  },
  {
   "cell_type": "code",
   "execution_count": 16,
   "id": "e94a2659",
   "metadata": {},
   "outputs": [
    {
     "name": "stdout",
     "output_type": "stream",
     "text": [
      "Enter the temperature, which you want to convert:\t\t100\n",
      "The temperature you entered is in 'F' or 'C'\t\t\tc\n",
      "The temprature in Fahrenheit is :\t\t\t 212.0\n"
     ]
    }
   ],
   "source": [
    "temp = float(input(\"Enter the temperature, which you want to convert:\\t\\t\"))\n",
    "#print(temp)\n",
    "degree = input(\"The temperature you entered is in 'F' or 'C'\\t\\t\\t\")\n",
    "\n",
    "#conversion\n",
    "if degree == 'c' or degree == 'C':\n",
    "    result = ((temp * 9)/5) + 32\n",
    "    print(\"The temprature in Fahrenheit is :\\t\\t\\t\",result)\n",
    "    \n",
    "elif degree == 'F' or degree =='f':\n",
    "    result = (temp - 32) * 5/9\n",
    "    print(\"The temprature in Celsius is :\\t\\t\\t\", result)"
   ]
  },
  {
   "cell_type": "markdown",
   "id": "c580fd2a",
   "metadata": {},
   "source": [
    " \n",
    "\n",
    " \n",
    "                                        Question # 2"
   ]
  },
  {
   "cell_type": "markdown",
   "id": "ca89423b",
   "metadata": {},
   "source": [
    "Write a Python program to check if number is divisible by 7 and multiple of 5, between 1500 and 2700 (both included).\n",
    "\n"
   ]
  },
  {
   "cell_type": "markdown",
   "id": "b203819d",
   "metadata": {},
   "source": [
    "    "
   ]
  },
  {
   "cell_type": "code",
   "execution_count": 20,
   "id": "179f4d41",
   "metadata": {},
   "outputs": [
    {
     "name": "stdout",
     "output_type": "stream",
     "text": [
      "The number is 'NOT' divisible by 7 and multiple of 5, between 1500 and 2700 (both included).\n"
     ]
    }
   ],
   "source": [
    "a = 1400\n",
    "\n",
    "if(a/7) and (a%5==0) and (a>1500) and (a<2700):\n",
    "    print(\"The number is divisible by 7 and multiple of 5, between 1500 and 2700 (both included).\")\n",
    "else:\n",
    "    print(\"The number is 'NOT' divisible by 7 and multiple of 5, between 1500 and 2700 (both included).\")"
   ]
  },
  {
   "cell_type": "markdown",
   "id": "51d7d953",
   "metadata": {},
   "source": [
    "                                        Question # 3\n",
    "                                        \n",
    "Use the list in the cell below and write a function to return the maximum and minimum value in the list. The function will take the list an argument and return two values."
   ]
  },
  {
   "cell_type": "code",
   "execution_count": 28,
   "id": "022f6c8c",
   "metadata": {},
   "outputs": [],
   "source": [
    "def maxmin(abc):\n",
    "    N = [max(abc), min(abc)]\n",
    "    return N"
   ]
  },
  {
   "cell_type": "code",
   "execution_count": 31,
   "id": "d9322288",
   "metadata": {},
   "outputs": [
    {
     "name": "stdout",
     "output_type": "stream",
     "text": [
      "The Maximum number is\t\t\t 9 \n",
      "The Minimum number is\t\t\t 1\n"
     ]
    }
   ],
   "source": [
    "A = [1,2,3,4,5,6,7,8,9]\n",
    "result = maxmin(A)\n",
    "print (\"The Maximum number is\\t\\t\\t\",result[0],\"\\nThe Minimum number is\\t\\t\\t\",result[1] )"
   ]
  },
  {
   "cell_type": "markdown",
   "id": "0dafb7a5",
   "metadata": {},
   "source": [
    "                                        Question # 4\n",
    "Write a function to return the 2nd maximum and 2nd minimum value in the list. The function will take the list an argument and return two values"
   ]
  },
  {
   "cell_type": "code",
   "execution_count": 46,
   "id": "3c51aa59",
   "metadata": {},
   "outputs": [],
   "source": [
    "def maxmin(abc):\n",
    "    abc.sort()\n",
    "    N = [abc[1], abc[-2]]\n",
    "    print(\"The sorted list\\t\\t\\t\", abc)\n",
    "    return N "
   ]
  },
  {
   "cell_type": "code",
   "execution_count": 47,
   "id": "e9287fd4",
   "metadata": {},
   "outputs": [
    {
     "name": "stdout",
     "output_type": "stream",
     "text": [
      "The sorted list\t\t\t [1, 2, 3, 4, 5, 6, 7, 8, 9, 10, 23, 32, 43, 45, 64, 75]\n",
      "The 2nd Maximum number is\t\t\t 2 \n",
      "The 2nd Minimum number is\t\t\t 64\n"
     ]
    }
   ],
   "source": [
    "A = [9,4,5,6,2,3,1,7,8,10,43,23,45,64,32,75]\n",
    "result = maxmin(A)\n",
    "print (\"The 2nd Maximum number is\\t\\t\\t\",result[0],\"\\nThe 2nd Minimum number is\\t\\t\\t\",result[1] )"
   ]
  },
  {
   "cell_type": "markdown",
   "id": "2a17dda0",
   "metadata": {},
   "source": [
    "                                        Question # 5\n",
    "Write a program to find the following statistics from a list. Note: Don’t use any built-in method for this question.\n",
    "• Mean\n",
    "• Median • Mode\n",
    "• Variance"
   ]
  },
  {
   "cell_type": "code",
   "execution_count": 42,
   "id": "fea2b22c",
   "metadata": {},
   "outputs": [],
   "source": [
    "def mean(abc):\n",
    "    range1 = len(abc)\n",
    "    sum1 = sum(abc)\n",
    "    total = sum1/range1\n",
    "    return total\n",
    "\n",
    "\n",
    "def median(abc):\n",
    "    abc.sort()\n",
    "    range1 = len(abc)\n",
    "    a = int(range1 / 2)\n",
    "    return abc[a]\n",
    "    "
   ]
  },
  {
   "cell_type": "code",
   "execution_count": 43,
   "id": "4db152db",
   "metadata": {},
   "outputs": [
    {
     "name": "stdout",
     "output_type": "stream",
     "text": [
      "The mean of this list is : \t\t\t 21.0625\n",
      "The Median of this list is : \t\t\t 9\n"
     ]
    }
   ],
   "source": [
    "A = [9,4,5,6,2,3,1,7,8,10,43,23,45,64,32,75]\n",
    "print(\"The mean of this list is : \\t\\t\\t\", mean(A))\n",
    "print(\"The Median of this list is : \\t\\t\\t\", median(A))"
   ]
  },
  {
   "cell_type": "markdown",
   "id": "e8f11b45",
   "metadata": {},
   "source": [
    "                                        Question # 6\n",
    "                                        \n",
    "You have three strings each containing different text, but all three have some common words in them. Your task is to find the frequency of words in each string and with the use of dictionary and list.\n",
    "The word will act as a 'key' in a dictionary where the value is a list containing the frequency of that word in all three strings.\n",
    "For example Dictionary['the'] -> List[] -> frequency count. the index '0' will contain the count of str1 and '1' will contain the count of str2 and so on. Following are the sample strings:\n",
    "\n",
    "\n",
    "• str1 = \"a quick brown fox jumps over the lazy dog\"\n",
    "\n",
    "• str2 = \"this course can be complex but not complicated if learnt properly\"\n",
    "\n",
    "• str3 = \"the boeing plane max 8 was grounded all around the world for technical problems\"\n",
    "\n"
   ]
  },
  {
   "cell_type": "code",
   "execution_count": 3,
   "id": "e6c20155",
   "metadata": {},
   "outputs": [
    {
     "name": "stdout",
     "output_type": "stream",
     "text": [
      "a quick brown fox jumps over the lazy dog \n",
      "\n",
      "this course can be complex but not complicated if learnt properly \n",
      "\n",
      "the boeing plane max 8 was grounded all around the world for technical problems \n",
      "\n",
      "Common words: ['complicated', 'quick', 'fox', 'plane', 'the', 'properly', 'dog', 'this', 'but', 'course', 'around', 'if', 'be', 'can', 'max', 'grounded', 'all', 'complex', 'world', 'boeing', 'not', 'for', 'jumps', 'learnt', 'was', 'a', 'technical', 'problems', '8', 'lazy', 'over', 'brown']\n",
      "\n",
      "\n",
      "The Result is : \n",
      "\t\t\t {'complicated': [0, 1, 0], 'quick': [1, 0, 0], 'fox': [1, 0, 0], 'plane': [0, 0, 1], 'the': [1, 0, 2], 'properly': [0, 1, 0], 'dog': [1, 0, 0], 'this': [0, 1, 0], 'but': [0, 1, 0], 'course': [0, 1, 0], 'around': [0, 0, 1], 'if': [0, 1, 0], 'be': [0, 1, 0], 'can': [0, 1, 0], 'max': [0, 0, 1], 'grounded': [0, 0, 1], 'all': [0, 0, 1], 'complex': [0, 1, 0], 'world': [0, 0, 1], 'boeing': [0, 0, 1], 'not': [0, 1, 0], 'for': [0, 0, 1], 'jumps': [1, 0, 0], 'learnt': [0, 1, 0], 'was': [0, 0, 1], 'a': [1, 0, 0], 'technical': [0, 0, 1], 'problems': [0, 0, 1], '8': [0, 0, 1], 'lazy': [1, 0, 0], 'over': [1, 0, 0], 'brown': [1, 0, 0]}\n"
     ]
    }
   ],
   "source": [
    "import json\n",
    "\n",
    "def CFwords(str_, word):\n",
    "    splits = str_.split()\n",
    "    freq = 0\n",
    "    \n",
    "    for x in splits:\n",
    "        if x == word:\n",
    "            freq = freq + 1\n",
    "            \n",
    "    return freq\n",
    "\n",
    "def Commonwords_all(str1, str2, str3):\n",
    "    s1_splits = str1.split()\n",
    "    s2_splits = str2.split()\n",
    "    s3_splits = str3.split()\n",
    "    \n",
    "    return list(set(s1_splits) | set(s2_splits) | set(s3_splits))\n",
    "\n",
    "def Common_in_string(str_, comm_words):\n",
    "    countList = []\n",
    "    \n",
    "    for x in comm_words:\n",
    "        countList.append(CFwords(str_, x))\n",
    "        \n",
    "    return countList\n",
    "        \n",
    "def Commonwords(str1, str2, str3):\n",
    "    comm_words = Commonwords_all(str1, str2, str3)\n",
    "    print(\"Common words:\", comm_words)\n",
    "    \n",
    "    freqList1 = Common_in_string(str1, comm_words)\n",
    "    freqList2 = Common_in_string(str2, comm_words)\n",
    "    freqList3 = Common_in_string(str3, comm_words)\n",
    "    myDict = dict() \n",
    "    freqListLen = len(freqList1)\n",
    "    \n",
    "    for x, iterator in zip(comm_words, range(len(freqList1))):\n",
    "        myDict[x] = []\n",
    "        \n",
    "        myDict[x].append(freqList1[iterator])\n",
    "        myDict[x].append(freqList2[iterator])\n",
    "        myDict[x].append(freqList3[iterator])\n",
    "    \n",
    "    return myDict\n",
    "\n",
    "if __name__ == \"__main__\":\n",
    "    \n",
    "    str1 = \"a quick brown fox jumps over the lazy dog\"\n",
    "    str2 = \"this course can be complex but not complicated if learnt properly\"\n",
    "    str3 = \"the boeing plane max 8 was grounded all around the world for technical problems\"\n",
    "    \n",
    "    print(str1, \"\\n\")\n",
    "    print(str2, \"\\n\")\n",
    "    print(str3, \"\\n\")\n",
    "\n",
    "    result = Commonwords(str1, str2, str3)\n",
    "    print(\"\\n\\nThe Result is : \\n\\t\\t\\t\", result)"
   ]
  },
  {
   "cell_type": "markdown",
   "id": "c0c87d18",
   "metadata": {},
   "source": [
    "                                            Question # 7\n",
    "    \n",
    "Write a program which will return ticket price for the following scenario"
   ]
  },
  {
   "cell_type": "code",
   "execution_count": 1,
   "id": "f96cdbcc",
   "metadata": {},
   "outputs": [],
   "source": [
    "import pandas as pd"
   ]
  },
  {
   "cell_type": "code",
   "execution_count": 11,
   "id": "c70b181c",
   "metadata": {},
   "outputs": [
    {
     "data": {
      "text/html": [
       "<div>\n",
       "<style scoped>\n",
       "    .dataframe tbody tr th:only-of-type {\n",
       "        vertical-align: middle;\n",
       "    }\n",
       "\n",
       "    .dataframe tbody tr th {\n",
       "        vertical-align: top;\n",
       "    }\n",
       "\n",
       "    .dataframe thead th {\n",
       "        text-align: right;\n",
       "    }\n",
       "</style>\n",
       "<table border=\"1\" class=\"dataframe\">\n",
       "  <thead>\n",
       "    <tr style=\"text-align: right;\">\n",
       "      <th></th>\n",
       "      <th>Unnamed: 0</th>\n",
       "      <th>Mon, Tue, Wed, Thurs, Fri</th>\n",
       "      <th>Unnamed: 2</th>\n",
       "      <th>Unnamed: 3</th>\n",
       "      <th>Unnamed: 4</th>\n",
       "      <th>Sat, Sun</th>\n",
       "      <th>Unnamed: 6</th>\n",
       "      <th>Unnamed: 7</th>\n",
       "      <th>Unnamed: 8</th>\n",
       "    </tr>\n",
       "  </thead>\n",
       "  <tbody>\n",
       "    <tr>\n",
       "      <th>0</th>\n",
       "      <td>Vistor Status</td>\n",
       "      <td>OT</td>\n",
       "      <td>OT</td>\n",
       "      <td>M</td>\n",
       "      <td>M</td>\n",
       "      <td>OT</td>\n",
       "      <td>OT</td>\n",
       "      <td>M</td>\n",
       "      <td>M</td>\n",
       "    </tr>\n",
       "    <tr>\n",
       "      <th>1</th>\n",
       "      <td>Entry Hour</td>\n",
       "      <td>6.00 - 19.00</td>\n",
       "      <td>19.01 -24.00</td>\n",
       "      <td>6.00 - 19.00</td>\n",
       "      <td>19.01 -24.00</td>\n",
       "      <td>6.00 - 19.00</td>\n",
       "      <td>19.01 -24.00</td>\n",
       "      <td>6.00 - 19.00</td>\n",
       "      <td>19.01 -24.00</td>\n",
       "    </tr>\n",
       "    <tr>\n",
       "      <th>2</th>\n",
       "      <td>NaN</td>\n",
       "      <td>Ticket Price</td>\n",
       "      <td>NaN</td>\n",
       "      <td>NaN</td>\n",
       "      <td>NaN</td>\n",
       "      <td>NaN</td>\n",
       "      <td>NaN</td>\n",
       "      <td>NaN</td>\n",
       "      <td>NaN</td>\n",
       "    </tr>\n",
       "    <tr>\n",
       "      <th>3</th>\n",
       "      <td>Vistor Age</td>\n",
       "      <td>NaN</td>\n",
       "      <td>NaN</td>\n",
       "      <td>NaN</td>\n",
       "      <td>NaN</td>\n",
       "      <td>NaN</td>\n",
       "      <td>NaN</td>\n",
       "      <td>NaN</td>\n",
       "      <td>NaN</td>\n",
       "    </tr>\n",
       "    <tr>\n",
       "      <th>4</th>\n",
       "      <td>0.0 - 16.00</td>\n",
       "      <td>5</td>\n",
       "      <td>6</td>\n",
       "      <td>2.5</td>\n",
       "      <td>3</td>\n",
       "      <td>7.5</td>\n",
       "      <td>9</td>\n",
       "      <td>3.5</td>\n",
       "      <td>4</td>\n",
       "    </tr>\n",
       "    <tr>\n",
       "      <th>5</th>\n",
       "      <td>16.01 - 60.00</td>\n",
       "      <td>10</td>\n",
       "      <td>12</td>\n",
       "      <td>5</td>\n",
       "      <td>6</td>\n",
       "      <td>15</td>\n",
       "      <td>18</td>\n",
       "      <td>7</td>\n",
       "      <td>8</td>\n",
       "    </tr>\n",
       "    <tr>\n",
       "      <th>6</th>\n",
       "      <td>60.01 - 120.00</td>\n",
       "      <td>8</td>\n",
       "      <td>8</td>\n",
       "      <td>4</td>\n",
       "      <td>4</td>\n",
       "      <td>12</td>\n",
       "      <td>12</td>\n",
       "      <td>5.5</td>\n",
       "      <td>5.5</td>\n",
       "    </tr>\n",
       "  </tbody>\n",
       "</table>\n",
       "</div>"
      ],
      "text/plain": [
       "       Unnamed: 0 Mon, Tue, Wed, Thurs, Fri    Unnamed: 2    Unnamed: 3  \\\n",
       "0   Vistor Status                        OT            OT             M   \n",
       "1      Entry Hour              6.00 - 19.00  19.01 -24.00  6.00 - 19.00   \n",
       "2             NaN             Ticket Price            NaN           NaN   \n",
       "3      Vistor Age                       NaN           NaN           NaN   \n",
       "4     0.0 - 16.00                         5             6           2.5   \n",
       "5   16.01 - 60.00                        10            12             5   \n",
       "6  60.01 - 120.00                         8             8             4   \n",
       "\n",
       "     Unnamed: 4      Sat, Sun    Unnamed: 6    Unnamed: 7    Unnamed: 8  \n",
       "0             M            OT            OT             M             M  \n",
       "1  19.01 -24.00  6.00 - 19.00  19.01 -24.00  6.00 - 19.00  19.01 -24.00  \n",
       "2           NaN           NaN           NaN           NaN           NaN  \n",
       "3           NaN           NaN           NaN           NaN           NaN  \n",
       "4             3           7.5             9           3.5             4  \n",
       "5             6            15            18             7             8  \n",
       "6             4            12            12           5.5           5.5  "
      ]
     },
     "execution_count": 11,
     "metadata": {},
     "output_type": "execute_result"
    }
   ],
   "source": [
    "path = \"/Users/saadshafiq/Downloads/Q7.csv\"\n",
    "df = pd.read_csv(path)\n",
    "df.head(10)"
   ]
  },
  {
   "cell_type": "code",
   "execution_count": 4,
   "id": "ab60cbcc",
   "metadata": {},
   "outputs": [],
   "source": [
    "#tried to solve it with pandas but failed --> now going to do with if else "
   ]
  },
  {
   "cell_type": "code",
   "execution_count": 21,
   "id": "987bc61b",
   "metadata": {},
   "outputs": [
    {
     "name": "stdout",
     "output_type": "stream",
     "text": [
      "Enter the age:\t\t43\n",
      "\n",
      "\t\t\tWrite days in Mon, Tue, Wed, Thus, Fri, Sat, Sun\n",
      "\n",
      "Enter the day:\t\tMon\n",
      "Enter your vistor status 'OT' or 'M':\t\tOT\n",
      "Enter the entery hour:\t\t\t12\n",
      "Ticket price:\t\t 10\n"
     ]
    }
   ],
   "source": [
    "class Ticket:\n",
    "    def __init__(self, day, status, entry_hrs, age):\n",
    "        self.week_day = day\n",
    "        self.visitor_status = status\n",
    "        self.entry_hours = entry_hrs\n",
    "        self.visitor_age = age\n",
    "    \n",
    "    def computeTicketPrice(self):\n",
    "        days = {\n",
    "            \"working_days\" : [\"Mon\", \"Tue\", \"Wed\", \"Thus\", \"Fri\"],\n",
    "            \"off_days\" : [\"Sat\", \"Sun\"]\n",
    "        }\n",
    "        \n",
    "        if self.week_day in days[\"working_days\"]:\n",
    "            \n",
    "            if self.visitor_status == \"OT\":\n",
    "                if self.entry_hours >= 6 and self.entry_hours <= 19:\n",
    "                    \n",
    "                    if self.visitor_age >= 0 and self.visitor_age <= 16:\n",
    "                        return 5\n",
    "                    elif self.visitor_age >= 16.01 and self.visitor_age <= 60:\n",
    "                        return 10\n",
    "                    elif self.visitor_age >= 60.01 and self.visitor_age <= 120:\n",
    "                        return 8\n",
    "                    \n",
    "                elif self.entry_hours >= 19.01 and self.entry_hours <= 24:\n",
    "                    \n",
    "                    if self.visitor_age >= 0 and self.visitor_age <= 16:\n",
    "                        return 6\n",
    "                    elif self.visitor_age >= 16.01 and self.visitor_age <= 60:\n",
    "                        return 12\n",
    "                    elif self.visitor_age >= 60.01 and self.visitor_age <= 120:\n",
    "                        return 8\n",
    "                    \n",
    "            elif self.visitor_status == \"M\":\n",
    "                if self.entry_hours >= 6 and self.entry_hours <= 19:\n",
    "                    \n",
    "                    if self.visitor_age >= 0 and self.visitor_age <= 16:\n",
    "                        return 2.5\n",
    "                    elif self.visitor_age >= 16.01 and self.visitor_age <= 60:\n",
    "                        return 5\n",
    "                    elif self.visitor_age >= 60.01 and self.visitor_age <= 120:\n",
    "                        return 4\n",
    "                    \n",
    "                elif self.entry_hours >= 19.01 and self.entry_hours <= 24:\n",
    "                    \n",
    "                    if self.visitor_age >= 0 and self.visitor_age <= 16:\n",
    "                        return 3\n",
    "                    elif self.visitor_age >= 16.01 and self.visitor_age <= 60:\n",
    "                        return 6\n",
    "                    elif self.visitor_age >= 60.01 and self.visitor_age <= 120:\n",
    "                        return 4\n",
    "                    \n",
    "        elif self.week_day in days[\"off_days\"]:\n",
    "            \n",
    "            if self.visitor_status == \"OT\":\n",
    "                if self.entry_hours >= 6 and self.entry_hours <= 19:\n",
    "                    \n",
    "                    if self.visitor_age >= 0 and self.visitor_age <= 16:\n",
    "                        return 7.5\n",
    "                    elif self.visitor_age >= 16.01 and self.visitor_age <= 60:\n",
    "                        return 15\n",
    "                    elif self.visitor_age >= 60.01 and self.visitor_age <= 120:\n",
    "                        return 12\n",
    "                    \n",
    "                elif self.entry_hours >= 19.01 and self.entry_hours <= 24:\n",
    "                    \n",
    "                    if self.visitor_age >= 0 and self.visitor_age <= 16:\n",
    "                        return 9\n",
    "                    elif self.visitor_age >= 16.01 and self.visitor_age <= 60:\n",
    "                        return 18\n",
    "                    elif self.visitor_age >= 60.01 and self.visitor_age <= 120:\n",
    "                        return 12\n",
    "                    \n",
    "            elif self.visitor_status == \"M\":\n",
    "                if self.entry_hours >= 6 and self.entry_hours <= 19:\n",
    "                    \n",
    "                    if self.visitor_age >= 0 and self.visitor_age <= 16:\n",
    "                        return 3.5\n",
    "                    elif self.visitor_age >= 16.01 and self.visitor_age <= 60:\n",
    "                        return 7\n",
    "                    elif self.visitor_age >= 60.01 and self.visitor_age <= 120:\n",
    "                        return 5.5\n",
    "                    \n",
    "                elif self.entry_hours >= 19.01 and self.entry_hours <= 24:\n",
    "                    \n",
    "                    if self.visitor_age >= 0 and self.visitor_age <= 16:\n",
    "                        return 4\n",
    "                    elif self.visitor_age >= 16.01 and self.visitor_age <= 60:\n",
    "                        return 8\n",
    "                    elif self.visitor_age >= 60.01 and self.visitor_age <= 120:\n",
    "                        return 5.5\n",
    "        \n",
    "        return -1\n",
    "temp_age = float(input(\"Enter the age:\\t\\t\"))\n",
    "print(\"\\n\\t\\t\\tWrite days in Mon, Tue, Wed, Thus, Fri, Sat, Sun\\n\")\n",
    "temp_day = str(input(\"Enter the day:\\t\\t\"))\n",
    "temp_status = str(input(\"Enter your vistor status 'OT' or 'M':\\t\\t\"))\n",
    "temp_entryhour = int(input(\"Enter the entery hour:\\t\\t\\t\"))\n",
    "if __name__ == \"__main__\":\n",
    "    \n",
    "    obj = Ticket(temp_day, temp_status, temp_entryhour, temp_age)\n",
    "    ticket = obj.computeTicketPrice()\n",
    "    \n",
    "    if (ticket != -1):\n",
    "        print(\"Ticket price:\\t\\t\", ticket)\n",
    "    else:\n",
    "        raise Exception(\"\\n\\t\\t\\tError! Check again the parameters.\")"
   ]
  },
  {
   "cell_type": "code",
   "execution_count": null,
   "id": "ac1f70ba",
   "metadata": {},
   "outputs": [],
   "source": []
  }
 ],
 "metadata": {
  "kernelspec": {
   "display_name": "Python 3",
   "language": "python",
   "name": "python3"
  },
  "language_info": {
   "codemirror_mode": {
    "name": "ipython",
    "version": 3
   },
   "file_extension": ".py",
   "mimetype": "text/x-python",
   "name": "python",
   "nbconvert_exporter": "python",
   "pygments_lexer": "ipython3",
   "version": "3.7.10"
  }
 },
 "nbformat": 4,
 "nbformat_minor": 5
}
